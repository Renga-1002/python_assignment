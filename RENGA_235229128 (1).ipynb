{
 "cells": [
  {
   "cell_type": "markdown",
   "id": "216b93ab",
   "metadata": {},
   "source": [
    "# RENGA PRASAD A"
   ]
  },
  {
   "cell_type": "markdown",
   "id": "5065909e",
   "metadata": {},
   "source": [
    "# 235229128"
   ]
  },
  {
   "cell_type": "markdown",
   "id": "10b9162b",
   "metadata": {},
   "source": [
    "# <h3>lab assignment-6</h3>"
   ]
  },
  {
   "cell_type": "markdown",
   "id": "c69a0ebf",
   "metadata": {},
   "source": [
    "# <h3>Question1. Write a program to implement MAP function. Find the square root of a list of\n",
    "numbers [1, 2, 4, 6] using map and sqrt functions. Check the answer against your user\n",
    "defined function mymap().</h3>"
   ]
  },
  {
   "cell_type": "code",
   "execution_count": 3,
   "id": "02d6f834",
   "metadata": {},
   "outputs": [
    {
     "name": "stdout",
     "output_type": "stream",
     "text": [
      "Original List:  [1, 2, 4, 6]\n",
      "Squareroot the elements of the said list using map():\n",
      "[1.0, 1.4142135623730951, 2.0, 2.449489742783178]\n"
     ]
    }
   ],
   "source": [
    "from math import sqrt\n",
    "nums = [1,2,4,6]\n",
    "print(\"Original List: \",nums)\n",
    "result = map(sqrt, nums)\n",
    "print(\"Squareroot the elements of the said list using map():\")\n",
    "print(list(result))\n"
   ]
  },
  {
   "cell_type": "markdown",
   "id": "6a0900f4",
   "metadata": {},
   "source": [
    "# <h3>Question2. Write a program to implement FILTER function. Filter all upper case letters in a\n",
    "list ['x', 'Y', '2', '3', 'Z', ‘b’] using filter function. Check the answer against your user define\n",
    "function myfilter().</h3>"
   ]
  },
  {
   "cell_type": "code",
   "execution_count": 7,
   "id": "e11a6609",
   "metadata": {},
   "outputs": [
    {
     "name": "stdout",
     "output_type": "stream",
     "text": [
      "['Y', 'Z']\n"
     ]
    }
   ],
   "source": [
    "lst=['x','Y','2','3','Z','b']\n",
    "def myfilter(lst):   \n",
    "    return lst.isupper()\n",
    "result=filter(myfilter,lst)\n",
    "print(list(result))\n",
    "    \n",
    "    \n",
    "    "
   ]
  },
  {
   "cell_type": "markdown",
   "id": "faa260a1",
   "metadata": {},
   "source": [
    "# <h3>Question3. Write a program to create a lambda function that takes two characters and\n",
    "concatenates them. Now, apply this function inside REDUCE function that will reduce the list\n",
    "of characters [‘a’, ‘b’, ‘c’, d’] with the intial value ‘x’.</h3>"
   ]
  },
  {
   "cell_type": "code",
   "execution_count": 1,
   "id": "9c0aeac6",
   "metadata": {},
   "outputs": [
    {
     "name": "stdout",
     "output_type": "stream",
     "text": [
      "Result: xabcd\n"
     ]
    }
   ],
   "source": [
    "from functools import reduce\n",
    "c=lambda x,y:x+y\n",
    "char_lst=['a','b','c''d']\n",
    "initial_value='x'\n",
    "result=reduce(c,char_lst,initial_value)\n",
    "print(\"Result:\",result)\n",
    "\n",
    "          \n"
   ]
  },
  {
   "cell_type": "markdown",
   "id": "b2d61b81",
   "metadata": {},
   "source": [
    "# <h3>Question4. Imagine an accounting routine used in a book shop. It works on a list with\n",
    "sublists, which look like this:\n",
    "Order No Book Title and Author Quantity Price per Item\n",
    "34587 Learning Python, Mark Lutz 4 40.95\n",
    "98762 Programming Python, Mark Lutz 5 56.80\n",
    "77226 Head First Python, Paul Barry 3 32.95\n",
    "88112 Einführung in Python3, Bernd Klein 3 24.99\n",
    "\n",
    "Write a Python program, which returns a list with 2-tuples. Each tuple consists of an order\n",
    "number and the product of the price per items and the quantity. The product should be\n",
    "decreased by RS 10 if the value of the order is smaller than RS 100.00. Write a Python\n",
    "program using lambda and map functions.</h3>"
   ]
  },
  {
   "cell_type": "code",
   "execution_count": 2,
   "id": "4a8bd182",
   "metadata": {},
   "outputs": [
    {
     "name": "stdout",
     "output_type": "stream",
     "text": [
      "Result: [(34587, 163.8), (98762, 284.0), (77226, 88.85000000000001), (88112, 64.97)]\n"
     ]
    }
   ],
   "source": [
    "orders = [[34587, \"Learning Python, Mark Lutz\", 4, 40.95],[98762, \"Programming Python, Mark Lutz\", 5, 56.80],[77226, \"Head First Python, Paul Barry\", 3, 32.95],[88112, \"Einführung in Python3, Bernd Klein\", 3, 24.99]]\n",
    "calculate_total = lambda order: (order[0], (order[2] * order[3]) - 10 if (order[2] * order[3]) < 100 else order[2] * order[3])\n",
    "result = list(map(calculate_total, orders))\n",
    "print(\"Result:\", result)"
   ]
  },
  {
   "cell_type": "code",
   "execution_count": null,
   "id": "df4cebf7",
   "metadata": {},
   "outputs": [],
   "source": []
  }
 ],
 "metadata": {
  "kernelspec": {
   "display_name": "Python 3 (ipykernel)",
   "language": "python",
   "name": "python3"
  },
  "language_info": {
   "codemirror_mode": {
    "name": "ipython",
    "version": 3
   },
   "file_extension": ".py",
   "mimetype": "text/x-python",
   "name": "python",
   "nbconvert_exporter": "python",
   "pygments_lexer": "ipython3",
   "version": "3.10.9"
  }
 },
 "nbformat": 4,
 "nbformat_minor": 5
}
